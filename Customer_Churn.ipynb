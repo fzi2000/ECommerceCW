{
  "cells": [
    {
      "cell_type": "markdown",
      "id": "a9a93358-121d-4636-a0e7-27d2b8909104",
      "metadata": {
        "id": "a9a93358-121d-4636-a0e7-27d2b8909104"
      },
      "source": [
        "## Customer Churn Retention\n",
        "Problem Statement and Technology Used\n",
        "\n",
        "The objective of this project is to analyze customer churn patterns and identify key factors contributing to customer retention. We utilize Classification and Regression Trees (CART), a form of decision tree algorithm, to predict whether a customer is likely to churn based on their feedback and past engagement. The insights derived from this analysis will be used to improve customer retention strategies."
      ]
    },
    {
      "cell_type": "code",
      "execution_count": null,
      "id": "bd297a95-7ce7-4d4a-bcd2-5522466e14c3",
      "metadata": {
        "colab": {
          "base_uri": "https://localhost:8080/"
        },
        "id": "bd297a95-7ce7-4d4a-bcd2-5522466e14c3",
        "outputId": "aefae210-2296-4bf5-fc11-999bcdb23d5d"
      },
      "outputs": [
        {
          "name": "stdout",
          "output_type": "stream",
          "text": [
            "Requirement already satisfied: gspread in /usr/local/lib/python3.11/dist-packages (6.1.4)\n",
            "Requirement already satisfied: google-auth>=1.12.0 in /usr/local/lib/python3.11/dist-packages (from gspread) (2.38.0)\n",
            "Requirement already satisfied: google-auth-oauthlib>=0.4.1 in /usr/local/lib/python3.11/dist-packages (from gspread) (1.2.1)\n",
            "Requirement already satisfied: cachetools<6.0,>=2.0.0 in /usr/local/lib/python3.11/dist-packages (from google-auth>=1.12.0->gspread) (5.5.2)\n",
            "Requirement already satisfied: pyasn1-modules>=0.2.1 in /usr/local/lib/python3.11/dist-packages (from google-auth>=1.12.0->gspread) (0.4.1)\n",
            "Requirement already satisfied: rsa<5,>=3.1.4 in /usr/local/lib/python3.11/dist-packages (from google-auth>=1.12.0->gspread) (4.9)\n",
            "Requirement already satisfied: requests-oauthlib>=0.7.0 in /usr/local/lib/python3.11/dist-packages (from google-auth-oauthlib>=0.4.1->gspread) (2.0.0)\n",
            "Requirement already satisfied: pyasn1<0.7.0,>=0.4.6 in /usr/local/lib/python3.11/dist-packages (from pyasn1-modules>=0.2.1->google-auth>=1.12.0->gspread) (0.6.1)\n",
            "Requirement already satisfied: oauthlib>=3.0.0 in /usr/local/lib/python3.11/dist-packages (from requests-oauthlib>=0.7.0->google-auth-oauthlib>=0.4.1->gspread) (3.2.2)\n",
            "Requirement already satisfied: requests>=2.0.0 in /usr/local/lib/python3.11/dist-packages (from requests-oauthlib>=0.7.0->google-auth-oauthlib>=0.4.1->gspread) (2.32.3)\n",
            "Requirement already satisfied: charset-normalizer<4,>=2 in /usr/local/lib/python3.11/dist-packages (from requests>=2.0.0->requests-oauthlib>=0.7.0->google-auth-oauthlib>=0.4.1->gspread) (3.4.1)\n",
            "Requirement already satisfied: idna<4,>=2.5 in /usr/local/lib/python3.11/dist-packages (from requests>=2.0.0->requests-oauthlib>=0.7.0->google-auth-oauthlib>=0.4.1->gspread) (3.10)\n",
            "Requirement already satisfied: urllib3<3,>=1.21.1 in /usr/local/lib/python3.11/dist-packages (from requests>=2.0.0->requests-oauthlib>=0.7.0->google-auth-oauthlib>=0.4.1->gspread) (2.3.0)\n",
            "Requirement already satisfied: certifi>=2017.4.17 in /usr/local/lib/python3.11/dist-packages (from requests>=2.0.0->requests-oauthlib>=0.7.0->google-auth-oauthlib>=0.4.1->gspread) (2025.1.31)\n",
            "Requirement already satisfied: gspread-dataframe in /usr/local/lib/python3.11/dist-packages (4.0.0)\n",
            "Requirement already satisfied: gspread>=3.0.0 in /usr/local/lib/python3.11/dist-packages (from gspread-dataframe) (6.1.4)\n",
            "Requirement already satisfied: pandas>=0.24.0 in /usr/local/lib/python3.11/dist-packages (from gspread-dataframe) (2.2.2)\n",
            "Requirement already satisfied: six>=1.12.0 in /usr/local/lib/python3.11/dist-packages (from gspread-dataframe) (1.17.0)\n",
            "Requirement already satisfied: google-auth>=1.12.0 in /usr/local/lib/python3.11/dist-packages (from gspread>=3.0.0->gspread-dataframe) (2.38.0)\n",
            "Requirement already satisfied: google-auth-oauthlib>=0.4.1 in /usr/local/lib/python3.11/dist-packages (from gspread>=3.0.0->gspread-dataframe) (1.2.1)\n",
            "Requirement already satisfied: numpy>=1.23.2 in /usr/local/lib/python3.11/dist-packages (from pandas>=0.24.0->gspread-dataframe) (1.26.4)\n",
            "Requirement already satisfied: python-dateutil>=2.8.2 in /usr/local/lib/python3.11/dist-packages (from pandas>=0.24.0->gspread-dataframe) (2.8.2)\n",
            "Requirement already satisfied: pytz>=2020.1 in /usr/local/lib/python3.11/dist-packages (from pandas>=0.24.0->gspread-dataframe) (2025.1)\n",
            "Requirement already satisfied: tzdata>=2022.7 in /usr/local/lib/python3.11/dist-packages (from pandas>=0.24.0->gspread-dataframe) (2025.1)\n",
            "Requirement already satisfied: cachetools<6.0,>=2.0.0 in /usr/local/lib/python3.11/dist-packages (from google-auth>=1.12.0->gspread>=3.0.0->gspread-dataframe) (5.5.2)\n",
            "Requirement already satisfied: pyasn1-modules>=0.2.1 in /usr/local/lib/python3.11/dist-packages (from google-auth>=1.12.0->gspread>=3.0.0->gspread-dataframe) (0.4.1)\n",
            "Requirement already satisfied: rsa<5,>=3.1.4 in /usr/local/lib/python3.11/dist-packages (from google-auth>=1.12.0->gspread>=3.0.0->gspread-dataframe) (4.9)\n",
            "Requirement already satisfied: requests-oauthlib>=0.7.0 in /usr/local/lib/python3.11/dist-packages (from google-auth-oauthlib>=0.4.1->gspread>=3.0.0->gspread-dataframe) (2.0.0)\n",
            "Requirement already satisfied: pyasn1<0.7.0,>=0.4.6 in /usr/local/lib/python3.11/dist-packages (from pyasn1-modules>=0.2.1->google-auth>=1.12.0->gspread>=3.0.0->gspread-dataframe) (0.6.1)\n",
            "Requirement already satisfied: oauthlib>=3.0.0 in /usr/local/lib/python3.11/dist-packages (from requests-oauthlib>=0.7.0->google-auth-oauthlib>=0.4.1->gspread>=3.0.0->gspread-dataframe) (3.2.2)\n",
            "Requirement already satisfied: requests>=2.0.0 in /usr/local/lib/python3.11/dist-packages (from requests-oauthlib>=0.7.0->google-auth-oauthlib>=0.4.1->gspread>=3.0.0->gspread-dataframe) (2.32.3)\n",
            "Requirement already satisfied: charset-normalizer<4,>=2 in /usr/local/lib/python3.11/dist-packages (from requests>=2.0.0->requests-oauthlib>=0.7.0->google-auth-oauthlib>=0.4.1->gspread>=3.0.0->gspread-dataframe) (3.4.1)\n",
            "Requirement already satisfied: idna<4,>=2.5 in /usr/local/lib/python3.11/dist-packages (from requests>=2.0.0->requests-oauthlib>=0.7.0->google-auth-oauthlib>=0.4.1->gspread>=3.0.0->gspread-dataframe) (3.10)\n",
            "Requirement already satisfied: urllib3<3,>=1.21.1 in /usr/local/lib/python3.11/dist-packages (from requests>=2.0.0->requests-oauthlib>=0.7.0->google-auth-oauthlib>=0.4.1->gspread>=3.0.0->gspread-dataframe) (2.3.0)\n",
            "Requirement already satisfied: certifi>=2017.4.17 in /usr/local/lib/python3.11/dist-packages (from requests>=2.0.0->requests-oauthlib>=0.7.0->google-auth-oauthlib>=0.4.1->gspread>=3.0.0->gspread-dataframe) (2025.1.31)\n",
            "Requirement already satisfied: oauth2client in /usr/local/lib/python3.11/dist-packages (4.1.3)\n",
            "Requirement already satisfied: httplib2>=0.9.1 in /usr/local/lib/python3.11/dist-packages (from oauth2client) (0.22.0)\n",
            "Requirement already satisfied: pyasn1>=0.1.7 in /usr/local/lib/python3.11/dist-packages (from oauth2client) (0.6.1)\n",
            "Requirement already satisfied: pyasn1-modules>=0.0.5 in /usr/local/lib/python3.11/dist-packages (from oauth2client) (0.4.1)\n",
            "Requirement already satisfied: rsa>=3.1.4 in /usr/local/lib/python3.11/dist-packages (from oauth2client) (4.9)\n",
            "Requirement already satisfied: six>=1.6.1 in /usr/local/lib/python3.11/dist-packages (from oauth2client) (1.17.0)\n",
            "Requirement already satisfied: pyparsing!=3.0.0,!=3.0.1,!=3.0.2,!=3.0.3,<4,>=2.4.2 in /usr/local/lib/python3.11/dist-packages (from httplib2>=0.9.1->oauth2client) (3.2.1)\n"
          ]
        }
      ],
      "source": [
        "# Installing packages\n",
        "! pip install gspread\n",
        "! pip install gspread-dataframe\n",
        "! pip install oauth2client"
      ]
    },
    {
      "cell_type": "code",
      "execution_count": 1,
      "id": "58a2bdef-c800-4fcb-bcef-b0f350f16900",
      "metadata": {
        "id": "58a2bdef-c800-4fcb-bcef-b0f350f16900"
      },
      "outputs": [],
      "source": [
        "# Import libraries\n",
        "import pandas as pd\n",
        "from sklearn.model_selection import train_test_split\n",
        "from sklearn.tree import DecisionTreeClassifier\n",
        "from sklearn.metrics import accuracy_score\n",
        "from sklearn.tree import DecisionTreeClassifier, plot_tree\n",
        "from sklearn.metrics import accuracy_score\n",
        "import matplotlib.pyplot as plt\n",
        "import gspread\n",
        "from gspread_dataframe import get_as_dataframe\n",
        "from oauth2client.service_account import ServiceAccountCredentials\n",
        "from sklearn.preprocessing import StandardScaler, LabelEncoder\n",
        "from sklearn.cluster import KMeans\n",
        "import plotly.express as px\n",
        "from sklearn.metrics import classification_report, confusion_matrix\n",
        "import seaborn as sns\n",
        "from sklearn.feature_selection import RFE\n"
      ]
    },
    {
      "cell_type": "markdown",
      "id": "24792b30-dcce-4e63-8a7d-9f22e77b676f",
      "metadata": {
        "id": "24792b30-dcce-4e63-8a7d-9f22e77b676f"
      },
      "source": [
        "### Prepare and Train Model on Existing Data  "
      ]
    },
    {
      "cell_type": "code",
      "execution_count": null,
      "id": "B6n9LceNQmpY",
      "metadata": {
        "colab": {
          "base_uri": "https://localhost:8080/"
        },
        "id": "B6n9LceNQmpY",
        "outputId": "5145528d-85f6-4e3f-d3ba-2e608ae967ed"
      },
      "outputs": [
        {
          "name": "stdout",
          "output_type": "stream",
          "text": [
            "Mounted at /content/drive\n"
          ]
        }
      ],
      "source": [
        "# # Mounting Google Drive\n",
        "# from google.colab import drive\n",
        "# drive.mount('/content/drive')"
      ]
    },
    {
      "cell_type": "code",
      "execution_count": 2,
      "id": "2e0a85c5-92a6-4177-be8b-2f134946a349",
      "metadata": {
        "id": "2e0a85c5-92a6-4177-be8b-2f134946a349"
      },
      "outputs": [],
      "source": [
        "# Reading the dataset\n",
        "df = pd.read_excel('customer data.xlsx')"
      ]
    },
    {
      "cell_type": "code",
      "execution_count": 3,
      "id": "l1ZuvFPtgjPT",
      "metadata": {
        "colab": {
          "base_uri": "https://localhost:8080/",
          "height": 676
        },
        "id": "l1ZuvFPtgjPT",
        "outputId": "fbc730dc-238e-46a0-90a8-4447327a7e46"
      },
      "outputs": [
        {
          "data": {
            "text/html": [
              "<div>\n",
              "<style scoped>\n",
              "    .dataframe tbody tr th:only-of-type {\n",
              "        vertical-align: middle;\n",
              "    }\n",
              "\n",
              "    .dataframe tbody tr th {\n",
              "        vertical-align: top;\n",
              "    }\n",
              "\n",
              "    .dataframe thead th {\n",
              "        text-align: right;\n",
              "    }\n",
              "</style>\n",
              "<table border=\"1\" class=\"dataframe\">\n",
              "  <thead>\n",
              "    <tr style=\"text-align: right;\">\n",
              "      <th></th>\n",
              "      <th>Name</th>\n",
              "      <th>CustomerID</th>\n",
              "      <th>Website</th>\n",
              "      <th>Security</th>\n",
              "      <th>Services</th>\n",
              "      <th>Delivery</th>\n",
              "      <th>Shopping</th>\n",
              "      <th>Price</th>\n",
              "      <th>FutureShop</th>\n",
              "      <th>Churn</th>\n",
              "    </tr>\n",
              "  </thead>\n",
              "  <tbody>\n",
              "    <tr>\n",
              "      <th>0</th>\n",
              "      <td>John</td>\n",
              "      <td>C001</td>\n",
              "      <td>Good</td>\n",
              "      <td>Good</td>\n",
              "      <td>Good</td>\n",
              "      <td>Efficient</td>\n",
              "      <td>Reliable</td>\n",
              "      <td>Affordable</td>\n",
              "      <td>Yes</td>\n",
              "      <td>No</td>\n",
              "    </tr>\n",
              "    <tr>\n",
              "      <th>1</th>\n",
              "      <td>Alice</td>\n",
              "      <td>C002</td>\n",
              "      <td>Good</td>\n",
              "      <td>Very Good</td>\n",
              "      <td>Good</td>\n",
              "      <td>Normal</td>\n",
              "      <td>Normal</td>\n",
              "      <td>Unfair</td>\n",
              "      <td>Yes</td>\n",
              "      <td>Yes</td>\n",
              "    </tr>\n",
              "    <tr>\n",
              "      <th>2</th>\n",
              "      <td>Mike</td>\n",
              "      <td>C003</td>\n",
              "      <td>Bad</td>\n",
              "      <td>Bad</td>\n",
              "      <td>Good</td>\n",
              "      <td>Confusing</td>\n",
              "      <td>Unreliable</td>\n",
              "      <td>Very Good</td>\n",
              "      <td>No</td>\n",
              "      <td>Yes</td>\n",
              "    </tr>\n",
              "    <tr>\n",
              "      <th>3</th>\n",
              "      <td>Rose</td>\n",
              "      <td>C004</td>\n",
              "      <td>Good</td>\n",
              "      <td>Very Good</td>\n",
              "      <td>Very Good</td>\n",
              "      <td>Normal</td>\n",
              "      <td>Reliable</td>\n",
              "      <td>Unfair</td>\n",
              "      <td>Yes</td>\n",
              "      <td>Yes</td>\n",
              "    </tr>\n",
              "    <tr>\n",
              "      <th>4</th>\n",
              "      <td>Sam</td>\n",
              "      <td>C005</td>\n",
              "      <td>Very Good</td>\n",
              "      <td>Good</td>\n",
              "      <td>Bad</td>\n",
              "      <td>Confusing</td>\n",
              "      <td>Unreliable</td>\n",
              "      <td>Unfair</td>\n",
              "      <td>No</td>\n",
              "      <td>No</td>\n",
              "    </tr>\n",
              "    <tr>\n",
              "      <th>5</th>\n",
              "      <td>Lily</td>\n",
              "      <td>C006</td>\n",
              "      <td>Very Bad</td>\n",
              "      <td>Good</td>\n",
              "      <td>Good</td>\n",
              "      <td>Normal</td>\n",
              "      <td>Unreliable</td>\n",
              "      <td>Very Good</td>\n",
              "      <td>No</td>\n",
              "      <td>Yes</td>\n",
              "    </tr>\n",
              "    <tr>\n",
              "      <th>6</th>\n",
              "      <td>Chris</td>\n",
              "      <td>C007</td>\n",
              "      <td>Very Good</td>\n",
              "      <td>Good</td>\n",
              "      <td>Very Good</td>\n",
              "      <td>Confusing</td>\n",
              "      <td>Unreliable</td>\n",
              "      <td>Unfair</td>\n",
              "      <td>No</td>\n",
              "      <td>Yes</td>\n",
              "    </tr>\n",
              "    <tr>\n",
              "      <th>7</th>\n",
              "      <td>David</td>\n",
              "      <td>C008</td>\n",
              "      <td>Good</td>\n",
              "      <td>Very Good</td>\n",
              "      <td>Bad</td>\n",
              "      <td>Normal</td>\n",
              "      <td>Reliable</td>\n",
              "      <td>Affordable</td>\n",
              "      <td>Yes</td>\n",
              "      <td>No</td>\n",
              "    </tr>\n",
              "    <tr>\n",
              "      <th>8</th>\n",
              "      <td>Anna</td>\n",
              "      <td>C009</td>\n",
              "      <td>Bad</td>\n",
              "      <td>Good</td>\n",
              "      <td>Good</td>\n",
              "      <td>Confusing</td>\n",
              "      <td>Reliable</td>\n",
              "      <td>Very Good</td>\n",
              "      <td>No</td>\n",
              "      <td>Yes</td>\n",
              "    </tr>\n",
              "    <tr>\n",
              "      <th>9</th>\n",
              "      <td>Tony</td>\n",
              "      <td>C010</td>\n",
              "      <td>Good</td>\n",
              "      <td>Very Good</td>\n",
              "      <td>Very Good</td>\n",
              "      <td>Efficient</td>\n",
              "      <td>Reliable</td>\n",
              "      <td>Affordable</td>\n",
              "      <td>Yes</td>\n",
              "      <td>No</td>\n",
              "    </tr>\n",
              "    <tr>\n",
              "      <th>10</th>\n",
              "      <td>Mary</td>\n",
              "      <td>C011</td>\n",
              "      <td>Very Good</td>\n",
              "      <td>Good</td>\n",
              "      <td>Good</td>\n",
              "      <td>Efficient</td>\n",
              "      <td>Reliable</td>\n",
              "      <td>Affordable</td>\n",
              "      <td>Yes</td>\n",
              "      <td>No</td>\n",
              "    </tr>\n",
              "    <tr>\n",
              "      <th>11</th>\n",
              "      <td>Ethan</td>\n",
              "      <td>C012</td>\n",
              "      <td>Bad</td>\n",
              "      <td>Bad</td>\n",
              "      <td>Very Bad</td>\n",
              "      <td>Confusing</td>\n",
              "      <td>Unreliable</td>\n",
              "      <td>Unfair</td>\n",
              "      <td>No</td>\n",
              "      <td>Yes</td>\n",
              "    </tr>\n",
              "    <tr>\n",
              "      <th>12</th>\n",
              "      <td>Sarah</td>\n",
              "      <td>C013</td>\n",
              "      <td>Very Bad</td>\n",
              "      <td>Very Bad</td>\n",
              "      <td>Good</td>\n",
              "      <td>Confusing</td>\n",
              "      <td>Normal</td>\n",
              "      <td>Unfair</td>\n",
              "      <td>No</td>\n",
              "      <td>Yes</td>\n",
              "    </tr>\n",
              "    <tr>\n",
              "      <th>13</th>\n",
              "      <td>Adam</td>\n",
              "      <td>C014</td>\n",
              "      <td>Good</td>\n",
              "      <td>Very Good</td>\n",
              "      <td>Good</td>\n",
              "      <td>Efficient</td>\n",
              "      <td>Unreliable</td>\n",
              "      <td>Affordable</td>\n",
              "      <td>Yes</td>\n",
              "      <td>No</td>\n",
              "    </tr>\n",
              "    <tr>\n",
              "      <th>14</th>\n",
              "      <td>Bella</td>\n",
              "      <td>C015</td>\n",
              "      <td>Very Good</td>\n",
              "      <td>Good</td>\n",
              "      <td>Very Good</td>\n",
              "      <td>Efficient</td>\n",
              "      <td>Reliable</td>\n",
              "      <td>Very Good</td>\n",
              "      <td>Yes</td>\n",
              "      <td>No</td>\n",
              "    </tr>\n",
              "    <tr>\n",
              "      <th>15</th>\n",
              "      <td>Omar</td>\n",
              "      <td>C016</td>\n",
              "      <td>Bad</td>\n",
              "      <td>Bad</td>\n",
              "      <td>Bad</td>\n",
              "      <td>Confusing</td>\n",
              "      <td>Reliable</td>\n",
              "      <td>Unfair</td>\n",
              "      <td>No</td>\n",
              "      <td>Yes</td>\n",
              "    </tr>\n",
              "    <tr>\n",
              "      <th>16</th>\n",
              "      <td>Grace</td>\n",
              "      <td>C017</td>\n",
              "      <td>Very Good</td>\n",
              "      <td>Very Good</td>\n",
              "      <td>Good</td>\n",
              "      <td>Efficient</td>\n",
              "      <td>Reliable</td>\n",
              "      <td>Affordable</td>\n",
              "      <td>Yes</td>\n",
              "      <td>No</td>\n",
              "    </tr>\n",
              "    <tr>\n",
              "      <th>17</th>\n",
              "      <td>Louis</td>\n",
              "      <td>C018</td>\n",
              "      <td>Very Bad</td>\n",
              "      <td>Good</td>\n",
              "      <td>Good</td>\n",
              "      <td>Confusing</td>\n",
              "      <td>Normal</td>\n",
              "      <td>Unfair</td>\n",
              "      <td>No</td>\n",
              "      <td>Yes</td>\n",
              "    </tr>\n",
              "    <tr>\n",
              "      <th>18</th>\n",
              "      <td>Emma</td>\n",
              "      <td>C019</td>\n",
              "      <td>Bad</td>\n",
              "      <td>Very Good</td>\n",
              "      <td>Bad</td>\n",
              "      <td>Normal</td>\n",
              "      <td>Unreliable</td>\n",
              "      <td>Very Good</td>\n",
              "      <td>No</td>\n",
              "      <td>No</td>\n",
              "    </tr>\n",
              "    <tr>\n",
              "      <th>19</th>\n",
              "      <td>Josh</td>\n",
              "      <td>C020</td>\n",
              "      <td>Bad</td>\n",
              "      <td>Very Good</td>\n",
              "      <td>Bad</td>\n",
              "      <td>Confusing</td>\n",
              "      <td>Unreliable</td>\n",
              "      <td>Affordable</td>\n",
              "      <td>No</td>\n",
              "      <td>Yes</td>\n",
              "    </tr>\n",
              "  </tbody>\n",
              "</table>\n",
              "</div>"
            ],
            "text/plain": [
              "     Name CustomerID    Website   Security   Services   Delivery    Shopping  \\\n",
              "0    John       C001       Good       Good       Good  Efficient    Reliable   \n",
              "1   Alice       C002       Good  Very Good       Good     Normal      Normal   \n",
              "2    Mike       C003        Bad        Bad       Good  Confusing  Unreliable   \n",
              "3    Rose       C004       Good  Very Good  Very Good     Normal    Reliable   \n",
              "4     Sam       C005  Very Good       Good        Bad  Confusing  Unreliable   \n",
              "5    Lily       C006   Very Bad       Good       Good     Normal  Unreliable   \n",
              "6   Chris       C007  Very Good       Good  Very Good  Confusing  Unreliable   \n",
              "7   David       C008       Good  Very Good        Bad     Normal    Reliable   \n",
              "8    Anna       C009        Bad       Good       Good  Confusing    Reliable   \n",
              "9    Tony       C010       Good  Very Good  Very Good  Efficient    Reliable   \n",
              "10   Mary       C011  Very Good       Good       Good  Efficient    Reliable   \n",
              "11  Ethan       C012        Bad        Bad   Very Bad  Confusing  Unreliable   \n",
              "12  Sarah       C013   Very Bad   Very Bad       Good  Confusing      Normal   \n",
              "13   Adam       C014       Good  Very Good       Good  Efficient  Unreliable   \n",
              "14  Bella       C015  Very Good       Good  Very Good  Efficient    Reliable   \n",
              "15   Omar       C016        Bad        Bad        Bad  Confusing    Reliable   \n",
              "16  Grace       C017  Very Good  Very Good       Good  Efficient    Reliable   \n",
              "17  Louis       C018   Very Bad       Good       Good  Confusing      Normal   \n",
              "18   Emma       C019        Bad  Very Good        Bad     Normal  Unreliable   \n",
              "19   Josh       C020        Bad  Very Good        Bad  Confusing  Unreliable   \n",
              "\n",
              "         Price FutureShop Churn  \n",
              "0   Affordable        Yes    No  \n",
              "1       Unfair        Yes   Yes  \n",
              "2    Very Good         No   Yes  \n",
              "3       Unfair        Yes   Yes  \n",
              "4       Unfair         No    No  \n",
              "5    Very Good         No   Yes  \n",
              "6       Unfair         No   Yes  \n",
              "7   Affordable        Yes    No  \n",
              "8    Very Good         No   Yes  \n",
              "9   Affordable        Yes    No  \n",
              "10  Affordable        Yes    No  \n",
              "11      Unfair         No   Yes  \n",
              "12      Unfair         No   Yes  \n",
              "13  Affordable        Yes    No  \n",
              "14   Very Good        Yes    No  \n",
              "15      Unfair         No   Yes  \n",
              "16  Affordable        Yes    No  \n",
              "17      Unfair         No   Yes  \n",
              "18   Very Good         No    No  \n",
              "19  Affordable         No   Yes  "
            ]
          },
          "execution_count": 3,
          "metadata": {},
          "output_type": "execute_result"
        }
      ],
      "source": [
        "# Displaying the data\n",
        "df"
      ]
    },
    {
      "cell_type": "code",
      "execution_count": 4,
      "id": "AJreUWzrW-4H",
      "metadata": {
        "colab": {
          "base_uri": "https://localhost:8080/"
        },
        "id": "AJreUWzrW-4H",
        "outputId": "510001ca-26fa-436d-fbc9-1217934bbe09"
      },
      "outputs": [
        {
          "name": "stdout",
          "output_type": "stream",
          "text": [
            "['Name', 'CustomerID', 'Website', 'Security', 'Services', 'Delivery', 'Shopping', 'Price', 'FutureShop', 'Churn']\n"
          ]
        }
      ],
      "source": [
        "print(df.columns.tolist())  # Check exact column names\n"
      ]
    },
    {
      "cell_type": "code",
      "execution_count": 5,
      "id": "c241767c-5cec-49d1-b393-f63ce19ee9c7",
      "metadata": {
        "id": "c241767c-5cec-49d1-b393-f63ce19ee9c7"
      },
      "outputs": [],
      "source": [
        "# Mapping the options to numbers for easier model training\n",
        "mapping_dict = {\n",
        "    'Very Bad': 1, 'Bad': 2, 'Good': 3, 'Very Good': 4,\n",
        "    'Confusing': 1, 'Normal': 2, 'Efficient': 3,\n",
        "    'Unreliable': 1, 'Normal': 2, 'Reliable': 3,\n",
        "    'Unfair': 1, 'Affordable': 2, 'Very Good': 3,\n",
        "    'No': 0, 'Maybe': 1, 'Yes': 2\n",
        "}\n",
        "columns_to_map = ['Website', 'Security', 'Services', 'Delivery', 'Shopping', 'Price', 'FutureShop']\n",
        "for col in columns_to_map:\n",
        "    df[col] = df[col].map(mapping_dict)\n"
      ]
    },
    {
      "cell_type": "code",
      "execution_count": 6,
      "id": "69256bc8-5d94-4fdc-9620-90b68c3dc482",
      "metadata": {
        "colab": {
          "base_uri": "https://localhost:8080/",
          "height": 206
        },
        "id": "69256bc8-5d94-4fdc-9620-90b68c3dc482",
        "outputId": "c73c431f-3965-4c11-9f70-604bf22ac732"
      },
      "outputs": [
        {
          "data": {
            "text/html": [
              "<div>\n",
              "<style scoped>\n",
              "    .dataframe tbody tr th:only-of-type {\n",
              "        vertical-align: middle;\n",
              "    }\n",
              "\n",
              "    .dataframe tbody tr th {\n",
              "        vertical-align: top;\n",
              "    }\n",
              "\n",
              "    .dataframe thead th {\n",
              "        text-align: right;\n",
              "    }\n",
              "</style>\n",
              "<table border=\"1\" class=\"dataframe\">\n",
              "  <thead>\n",
              "    <tr style=\"text-align: right;\">\n",
              "      <th></th>\n",
              "      <th>Name</th>\n",
              "      <th>CustomerID</th>\n",
              "      <th>Website</th>\n",
              "      <th>Security</th>\n",
              "      <th>Services</th>\n",
              "      <th>Delivery</th>\n",
              "      <th>Shopping</th>\n",
              "      <th>Price</th>\n",
              "      <th>FutureShop</th>\n",
              "      <th>Churn</th>\n",
              "    </tr>\n",
              "  </thead>\n",
              "  <tbody>\n",
              "    <tr>\n",
              "      <th>0</th>\n",
              "      <td>John</td>\n",
              "      <td>C001</td>\n",
              "      <td>3</td>\n",
              "      <td>3</td>\n",
              "      <td>3</td>\n",
              "      <td>3</td>\n",
              "      <td>3</td>\n",
              "      <td>2</td>\n",
              "      <td>2</td>\n",
              "      <td>No</td>\n",
              "    </tr>\n",
              "    <tr>\n",
              "      <th>1</th>\n",
              "      <td>Alice</td>\n",
              "      <td>C002</td>\n",
              "      <td>3</td>\n",
              "      <td>3</td>\n",
              "      <td>3</td>\n",
              "      <td>2</td>\n",
              "      <td>2</td>\n",
              "      <td>1</td>\n",
              "      <td>2</td>\n",
              "      <td>Yes</td>\n",
              "    </tr>\n",
              "    <tr>\n",
              "      <th>2</th>\n",
              "      <td>Mike</td>\n",
              "      <td>C003</td>\n",
              "      <td>2</td>\n",
              "      <td>2</td>\n",
              "      <td>3</td>\n",
              "      <td>1</td>\n",
              "      <td>1</td>\n",
              "      <td>3</td>\n",
              "      <td>0</td>\n",
              "      <td>Yes</td>\n",
              "    </tr>\n",
              "    <tr>\n",
              "      <th>3</th>\n",
              "      <td>Rose</td>\n",
              "      <td>C004</td>\n",
              "      <td>3</td>\n",
              "      <td>3</td>\n",
              "      <td>3</td>\n",
              "      <td>2</td>\n",
              "      <td>3</td>\n",
              "      <td>1</td>\n",
              "      <td>2</td>\n",
              "      <td>Yes</td>\n",
              "    </tr>\n",
              "    <tr>\n",
              "      <th>4</th>\n",
              "      <td>Sam</td>\n",
              "      <td>C005</td>\n",
              "      <td>3</td>\n",
              "      <td>3</td>\n",
              "      <td>2</td>\n",
              "      <td>1</td>\n",
              "      <td>1</td>\n",
              "      <td>1</td>\n",
              "      <td>0</td>\n",
              "      <td>No</td>\n",
              "    </tr>\n",
              "  </tbody>\n",
              "</table>\n",
              "</div>"
            ],
            "text/plain": [
              "    Name CustomerID  Website  Security  Services  Delivery  Shopping  Price  \\\n",
              "0   John       C001        3         3         3         3         3      2   \n",
              "1  Alice       C002        3         3         3         2         2      1   \n",
              "2   Mike       C003        2         2         3         1         1      3   \n",
              "3   Rose       C004        3         3         3         2         3      1   \n",
              "4    Sam       C005        3         3         2         1         1      1   \n",
              "\n",
              "   FutureShop Churn  \n",
              "0           2    No  \n",
              "1           2   Yes  \n",
              "2           0   Yes  \n",
              "3           2   Yes  \n",
              "4           0    No  "
            ]
          },
          "execution_count": 6,
          "metadata": {},
          "output_type": "execute_result"
        }
      ],
      "source": [
        "df.head()"
      ]
    },
    {
      "cell_type": "code",
      "execution_count": 12,
      "id": "56708abc-d6a9-4b99-9f4d-378e5f24429d",
      "metadata": {
        "id": "56708abc-d6a9-4b99-9f4d-378e5f24429d"
      },
      "outputs": [],
      "source": [
        "# dropping unnecessary columns\n",
        "df=df.drop(columns=['Name','CustomerID'])"
      ]
    },
    {
      "cell_type": "markdown",
      "id": "uz3cwMTjAm1V",
      "metadata": {
        "id": "uz3cwMTjAm1V"
      },
      "source": [
        "## EDA And Statistical Summary"
      ]
    },
    {
      "cell_type": "code",
      "execution_count": null,
      "id": "8b8b7f15-3800-434e-a20e-193d6eb83abf",
      "metadata": {
        "colab": {
          "base_uri": "https://localhost:8080/"
        },
        "id": "8b8b7f15-3800-434e-a20e-193d6eb83abf",
        "outputId": "b2198630-bdbc-4d05-f4cc-59ffe5b3fecb"
      },
      "outputs": [
        {
          "name": "stdout",
          "output_type": "stream",
          "text": [
            "   Website  Security  Services  Delivery  Shopping  Price  FutureShop Churn\n",
            "0        3         3         3         3         3      2           2    No\n",
            "1        3         3         3         2         2      1           2   Yes\n",
            "2        2         2         3         1         1      3           0   Yes\n",
            "3        3         3         3         2         3      1           2   Yes\n",
            "4        3         3         2         1         1      1           0    No\n",
            "\n",
            "Missing Values:\n",
            " Website       0\n",
            "Security      0\n",
            "Services      0\n",
            "Delivery      0\n",
            "Shopping      0\n",
            "Price         0\n",
            "FutureShop    0\n",
            "Churn         0\n",
            "dtype: int64\n",
            "\n",
            "Data Types:\n",
            " Website        int64\n",
            "Security       int64\n",
            "Services       int64\n",
            "Delivery       int64\n",
            "Shopping       int64\n",
            "Price          int64\n",
            "FutureShop     int64\n",
            "Churn         object\n",
            "dtype: object\n",
            "\n",
            "Statistical Summary:\n",
            "          Website  Security   Services   Delivery   Shopping      Price  \\\n",
            "count  20.000000  20.00000  20.000000  20.000000  20.000000  20.000000   \n",
            "mean    2.400000   2.75000   2.650000   1.850000   2.050000   1.850000   \n",
            "std     0.753937   0.55012   0.587143   0.875094   0.944513   0.812728   \n",
            "min     1.000000   1.00000   1.000000   1.000000   1.000000   1.000000   \n",
            "25%     2.000000   3.00000   2.000000   1.000000   1.000000   1.000000   \n",
            "50%     3.000000   3.00000   3.000000   2.000000   2.000000   2.000000   \n",
            "75%     3.000000   3.00000   3.000000   3.000000   3.000000   2.250000   \n",
            "max     3.000000   3.00000   3.000000   3.000000   3.000000   3.000000   \n",
            "\n",
            "       FutureShop  \n",
            "count   20.000000  \n",
            "mean     0.900000  \n",
            "std      1.020836  \n",
            "min      0.000000  \n",
            "25%      0.000000  \n",
            "50%      0.000000  \n",
            "75%      2.000000  \n",
            "max      2.000000  \n"
          ]
        }
      ],
      "source": [
        "# Display first few rows\n",
        "print(df.head())\n",
        "\n",
        "# Check for missing values\n",
        "print(\"\\nMissing Values:\\n\", df.isnull().sum())\n",
        "\n",
        "# Check data types\n",
        "print(\"\\nData Types:\\n\", df.dtypes)\n",
        "\n",
        "# Basic statistics\n",
        "print(\"\\nStatistical Summary:\\n\", df.describe())\n"
      ]
    },
    {
      "cell_type": "markdown",
      "id": "OD8VjDU4XmnI",
      "metadata": {
        "id": "OD8VjDU4XmnI"
      },
      "source": [
        "The dataset contains 20 records with no missing values. Each feature along with its mean, median and quartiles are shown above."
      ]
    },
    {
      "cell_type": "markdown",
      "id": "cHPnphSiAqtR",
      "metadata": {
        "id": "cHPnphSiAqtR"
      },
      "source": [
        "## Data Preprocessing and Model Training"
      ]
    },
    {
      "cell_type": "code",
      "execution_count": 13,
      "id": "3fc59aaf",
      "metadata": {},
      "outputs": [
        {
          "name": "stdout",
          "output_type": "stream",
          "text": [
            "Class Distribution in Dataset:\n",
            "Churn\n",
            "Yes    11\n",
            "No      9\n",
            "Name: count, dtype: int64\n",
            " CART Model Accuracy: 66.67%\n"
          ]
        }
      ],
      "source": [
        "# Preparing features and target\n",
        "X = df[['Website', 'Security', 'Services', 'Delivery', 'Shopping', 'Price','FutureShop']]\n",
        "y = df['Churn']\n",
        "print(\"Class Distribution in Dataset:\")\n",
        "print(df['Churn'].value_counts())\n",
        "\n",
        "\n",
        "# Split data (70% training, 30% testing)\n",
        "X_train, X_test, y_train, y_test = train_test_split(X, y, test_size=0.3, random_state=42)\n",
        "\n",
        "# Train Decision Tree (CART)\n",
        "cart_model = DecisionTreeClassifier(criterion='gini', max_depth=10, min_samples_leaf=4,class_weight='balanced', random_state=42)\n",
        "cart_model.fit(X_train, y_train)\n",
        "\n",
        "y_pred_cart = cart_model.predict(X_test)\n",
        "accuracy_cart = accuracy_score(y_test, y_pred_cart)\n",
        "print(f\" CART Model Accuracy: {accuracy_cart * 100:.2f}%\")\n"
      ]
    },
    {
      "cell_type": "markdown",
      "id": "DPe9Urn6VXH0",
      "metadata": {
        "id": "DPe9Urn6VXH0"
      },
      "source": [
        "### Hyperparameter Tuning\n",
        "Using GridSreachCV to improve model performance"
      ]
    },
    {
      "cell_type": "code",
      "execution_count": 14,
      "id": "fc978c30",
      "metadata": {},
      "outputs": [
        {
          "name": "stdout",
          "output_type": "stream",
          "text": [
            "Best Parameters: {'max_depth': 4, 'min_samples_leaf': 1}\n",
            "Best Cross-Validation Accuracy: 0.8\n",
            " Optimised CART Model Accuracy: 83.33%\n"
          ]
        }
      ],
      "source": [
        "from sklearn.tree import DecisionTreeClassifier\n",
        "from sklearn.model_selection import GridSearchCV\n",
        "\n",
        "# Define the parameter grid\n",
        "param_grid = {\n",
        "    'max_depth': [3, 4, 5, 6, 7],\n",
        "    'min_samples_leaf': [1, 2, 3, 4, 5]\n",
        "}\n",
        "\n",
        "# Set up GridSearchCV\n",
        "grid_search = GridSearchCV(\n",
        "    estimator=DecisionTreeClassifier(criterion='gini', random_state=42),\n",
        "    param_grid=param_grid,\n",
        "    cv=5,  # 5-fold cross-validation\n",
        "    scoring='accuracy',\n",
        "    n_jobs=-1  # Use all CPU cores for speed\n",
        ")\n",
        "\n",
        "# Fit GridSearch\n",
        "grid_search.fit(X_train, y_train)\n",
        "\n",
        "#  Print best parameters and score\n",
        "print(\"Best Parameters:\", grid_search.best_params_)\n",
        "print(\"Best Cross-Validation Accuracy:\", grid_search.best_score_)\n",
        "\n",
        "#  Get the best model\n",
        "best_cart_model = grid_search.best_estimator_\n",
        "\n",
        "y_pred_best_cart = best_cart_model.predict(X_test)\n",
        "accuracy_cart = accuracy_score(y_test, y_pred_best_cart)\n",
        "print(f\" Optimised CART Model Accuracy: {accuracy_cart * 100:.2f}%\")"
      ]
    },
    {
      "cell_type": "code",
      "execution_count": null,
      "id": "vlc7FOyal8dg",
      "metadata": {
        "colab": {
          "base_uri": "https://localhost:8080/"
        },
        "id": "vlc7FOyal8dg",
        "outputId": "56865442-942c-47f2-90ce-261f603afb55"
      },
      "outputs": [
        {
          "name": "stdout",
          "output_type": "stream",
          "text": [
            "Selected Features: Index(['Website', 'Security', 'Services', 'Delivery', 'Shopping'], dtype='object')\n"
          ]
        }
      ],
      "source": [
        "# Top 5 features\n",
        "rfe = RFE(estimator=DecisionTreeClassifier(), n_features_to_select=5)\n",
        "rfe.fit(X, y)\n",
        "\n",
        "selected_features = X.columns[rfe.support_]\n",
        "print(\"Selected Features:\", selected_features)\n"
      ]
    },
    {
      "cell_type": "code",
      "execution_count": null,
      "id": "gv3dxsEtA6nQ",
      "metadata": {
        "colab": {
          "base_uri": "https://localhost:8080/",
          "height": 584
        },
        "id": "gv3dxsEtA6nQ",
        "outputId": "78093f34-5333-4c96-d9c1-5b6d909c7b03"
      },
      "outputs": [
        {
          "name": "stdout",
          "output_type": "stream",
          "text": [
            "Classification Report:\n",
            "               precision    recall  f1-score   support\n",
            "\n",
            "          No       0.50      1.00      0.67         1\n",
            "         Yes       1.00      0.80      0.89         5\n",
            "\n",
            "    accuracy                           0.83         6\n",
            "   macro avg       0.75      0.90      0.78         6\n",
            "weighted avg       0.92      0.83      0.85         6\n",
            "\n"
          ]
        },
        {
          "data": {
            "image/png": "[encoded data removed]",
            "text/plain": [
              "<Figure size 600x400 with 2 Axes>"
            ]
          },
          "metadata": {},
          "output_type": "display_data"
        }
      ],
      "source": [
        "# Compute classification report\n",
        "print(\"Classification Report:\\n\", classification_report(y_test, y_pred_best_cart))\n",
        "\n",
        "# Confusion Matrix\n",
        "plt.figure(figsize=(6, 4))\n",
        "sns.heatmap(confusion_matrix(y_test, y_pred_best_cart), annot=True, fmt=\"d\", cmap=\"Blues\", xticklabels=['No Churn', 'Churn'], yticklabels=['No Churn', 'Churn'])\n",
        "plt.title(\"Confusion Matrix for Decision Tree Model\")\n",
        "plt.xlabel(\"Predicted Label\")\n",
        "plt.ylabel(\"True Label\")\n",
        "plt.show()"
      ]
    },
    {
      "cell_type": "code",
      "execution_count": 15,
      "id": "eacecf84",
      "metadata": {},
      "outputs": [
        {
          "data": {
            "image/png": "[encoded data removed]",
            "text/plain": [
              "<Figure size 1200x1000 with 1 Axes>"
            ]
          },
          "metadata": {},
          "output_type": "display_data"
        },
        {
          "name": "stdout",
          "output_type": "stream",
          "text": [
            "\n",
            "Feature Importances (Most important to least):\n",
            "Website: 0.0972\n",
            "Security: 0.0000\n",
            "Services: 0.1458\n",
            "Delivery: 0.5017\n",
            "Shopping: 0.0000\n",
            "Price: 0.2552\n",
            "FutureShop: 0.0000\n"
          ]
        },
        {
          "data": {
            "image/png": "[encoded data removed]",
            "text/plain": [
              "<Figure size 1000x600 with 1 Axes>"
            ]
          },
          "metadata": {},
          "output_type": "display_data"
        }
      ],
      "source": [
        "# Plot Decision Tree\n",
        "plt.figure(figsize=(12, 10))\n",
        "plot_tree(best_cart_model, feature_names=X.columns, class_names=[\"No Churn\", \"Churn\"], filled=True)\n",
        "plt.show()\n",
        "\n",
        "# Feature Importance (CART)\n",
        "importances_cart = best_cart_model.feature_importances_\n",
        "print(\"\\nFeature Importances (Most important to least):\")\n",
        "for col, score in zip(X.columns, importances_cart):\n",
        "    print(f\"{col}: {score:.4f}\")\n",
        "plt.figure(figsize=(10, 6))\n",
        "plt.bar(range(X.shape[1]), importances_cart)\n",
        "plt.xticks(range(X.shape[1]), X.columns, rotation=45)\n",
        "plt.title(\"Feature Importances for Churn Prediction (CART)\")\n",
        "plt.show()"
      ]
    },
    {
      "cell_type": "markdown",
      "id": "Z6mDFPB9VggK",
      "metadata": {
        "id": "Z6mDFPB9VggK"
      },
      "source": [
        "Based on the model evaluation, it is revealed that Delivery is the most significant factor, followed by price and services.\n",
        "Adjusting these would help with customer retention"
      ]
    },
    {
      "cell_type": "markdown",
      "id": "LNQ3kcDwhL9L",
      "metadata": {
        "id": "LNQ3kcDwhL9L"
      },
      "source": [
        "## Experimenting with the Random Forest Classifier"
      ]
    },
    {
      "cell_type": "code",
      "execution_count": null,
      "id": "0d9c55bd-0594-4385-afb4-4261b96ba75f",
      "metadata": {
        "colab": {
          "base_uri": "https://localhost:8080/",
          "height": 631
        },
        "id": "0d9c55bd-0594-4385-afb4-4261b96ba75f",
        "outputId": "6773765f-094a-4b7a-9807-7d58ace16ec6"
      },
      "outputs": [
        {
          "name": "stdout",
          "output_type": "stream",
          "text": [
            "Random Forest Accuracy (reduced overfitting): 66.67%\n",
            " Random Forest Accuracy: 66.67%\n"
          ]
        },
        {
          "data": {
            "image/png": "[encoded data removed]",
            "text/plain": [
              "<Figure size 1000x600 with 1 Axes>"
            ]
          },
          "metadata": {},
          "output_type": "display_data"
        }
      ],
      "source": [
        "from sklearn.ensemble import RandomForestClassifier\n",
        "\n",
        "rf_model = RandomForestClassifier(n_estimators=100, max_depth=5, min_samples_leaf=3, random_state=21)\n",
        "rf_model.fit(X_train, y_train)\n",
        "\n",
        "# Evaluate\n",
        "y_pred_rf = rf_model.predict(X_test)\n",
        "accuracy_rf = accuracy_score(y_test, y_pred_rf)\n",
        "print(f\"Random Forest Accuracy (reduced overfitting): {accuracy_rf * 100:.2f}%\")\n",
        "\n",
        "\n",
        "y_pred_rf = rf_model.predict(X_test)\n",
        "accuracy_rf = accuracy_score(y_test, y_pred_rf)\n",
        "print(f\" Random Forest Accuracy: {accuracy_rf * 100:.2f}%\")\n",
        "\n",
        "# Feature Importance (Random Forest)\n",
        "importances_rf = rf_model.feature_importances_\n",
        "plt.figure(figsize=(10, 6))\n",
        "plt.bar(range(X.shape[1]), importances_rf)\n",
        "plt.xticks(range(X.shape[1]), X.columns, rotation=45)\n",
        "plt.title(\"Feature Importances for Churn Prediction (Random Forest)\")\n",
        "plt.show()"
      ]
    },
    {
      "cell_type": "markdown",
      "id": "ae658985-8853-46ec-b5e1-5c23f62170b8",
      "metadata": {
        "id": "ae658985-8853-46ec-b5e1-5c23f62170b8"
      },
      "source": [
        "### Google Sheets as New Data for Predictions\n",
        "We obtain the live responses from the Google forms survey present in our website. Using the customer feedback survey,we predict if the customer would churn or not"
      ]
    },
    {
      "cell_type": "code",
      "execution_count": 7,
      "id": "8c819b5b",
      "metadata": {},
      "outputs": [],
      "source": [
        "# Define scope and credentials\n",
        "scope = [\"https://spreadsheets.google.com/feeds\", 'https://www.googleapis.com/auth/spreadsheets', \"https://www.googleapis.com/auth/drive.file\", \"https://www.googleapis.com/auth/drive\"]\n",
        "creds = ServiceAccountCredentials.from_json_keyfile_name('ecomcw-d2dd4682a608.json', scope)\n",
        "\n",
        "# Connect to Google Sheets\n",
        "client = gspread.authorize(creds)\n",
        "\n",
        "# Open the spreadsheet\n",
        "sheet = client.open_by_key('1rZ90AxlEDotDPJ4_6HgO8IBaAPYi_Qc8MRUl2ag7aYQ')  # Google Sheet ID from link\n",
        "worksheet = sheet.worksheet('Form Responses 1')  # Sheet name"
      ]
    },
    {
      "cell_type": "code",
      "execution_count": 8,
      "id": "fcd15af2-a351-4b41-b9c5-f43008e83650",
      "metadata": {
        "colab": {
          "base_uri": "https://localhost:8080/",
          "height": 675
        },
        "id": "fcd15af2-a351-4b41-b9c5-f43008e83650",
        "outputId": "951b511f-1e89-4e1a-fb0d-5aba570a4797"
      },
      "outputs": [
        {
          "data": {
            "text/html": [
              "<div>\n",
              "<style scoped>\n",
              "    .dataframe tbody tr th:only-of-type {\n",
              "        vertical-align: middle;\n",
              "    }\n",
              "\n",
              "    .dataframe tbody tr th {\n",
              "        vertical-align: top;\n",
              "    }\n",
              "\n",
              "    .dataframe thead th {\n",
              "        text-align: right;\n",
              "    }\n",
              "</style>\n",
              "<table border=\"1\" class=\"dataframe\">\n",
              "  <thead>\n",
              "    <tr style=\"text-align: right;\">\n",
              "      <th></th>\n",
              "      <th>Timestamp</th>\n",
              "      <th>Name</th>\n",
              "      <th>CustomerID</th>\n",
              "      <th>How would you rate your overall experience with our website?</th>\n",
              "      <th>How would you rate the security of your payment and personal data on our website?</th>\n",
              "      <th>How would you rate your overall experience with our services?</th>\n",
              "      <th>How satisfied are you with our product delivery service?</th>\n",
              "      <th>How would you describe your shopping and buying experience?</th>\n",
              "      <th>How would you rate our product prices compared to value?</th>\n",
              "      <th>How likely are you to shop with us in the future</th>\n",
              "      <th>Feedback</th>\n",
              "    </tr>\n",
              "  </thead>\n",
              "  <tbody>\n",
              "    <tr>\n",
              "      <th>0</th>\n",
              "      <td>3/12/2025 20:11:17</td>\n",
              "      <td>Fathima</td>\n",
              "      <td>C001</td>\n",
              "      <td>Good</td>\n",
              "      <td>Good</td>\n",
              "      <td>Good</td>\n",
              "      <td>Normal (Average delivery time)</td>\n",
              "      <td>Reliable (Smooth and trustworthy process)</td>\n",
              "      <td>Affordable</td>\n",
              "      <td>Yes</td>\n",
              "      <td></td>\n",
              "    </tr>\n",
              "    <tr>\n",
              "      <th>1</th>\n",
              "      <td>3/14/2025 17:07:35</td>\n",
              "      <td>Melissa</td>\n",
              "      <td>C002</td>\n",
              "      <td>Bad</td>\n",
              "      <td>Good</td>\n",
              "      <td>Good</td>\n",
              "      <td>Confusing (Delayed or unclear delivery process)</td>\n",
              "      <td>Normal</td>\n",
              "      <td>Very Good</td>\n",
              "      <td>No</td>\n",
              "      <td>The prices are good, but the delivery was slow</td>\n",
              "    </tr>\n",
              "    <tr>\n",
              "      <th>2</th>\n",
              "      <td>3/14/2025 17:09:14</td>\n",
              "      <td>Shaza</td>\n",
              "      <td>C003</td>\n",
              "      <td>Very Bad</td>\n",
              "      <td>Very Good</td>\n",
              "      <td>Good</td>\n",
              "      <td>Normal (Average delivery time)</td>\n",
              "      <td>Normal</td>\n",
              "      <td>Affordable</td>\n",
              "      <td>Maybe</td>\n",
              "      <td>Overall a good experience</td>\n",
              "    </tr>\n",
              "    <tr>\n",
              "      <th>3</th>\n",
              "      <td>3/14/2025 17:11:33</td>\n",
              "      <td>Annie</td>\n",
              "      <td>C004</td>\n",
              "      <td>Bad</td>\n",
              "      <td>Good</td>\n",
              "      <td>Bad</td>\n",
              "      <td>Confusing (Delayed or unclear delivery process)</td>\n",
              "      <td>Unreliable (Faced issues)</td>\n",
              "      <td>Unfair (Too high for the value)</td>\n",
              "      <td>No</td>\n",
              "      <td></td>\n",
              "    </tr>\n",
              "    <tr>\n",
              "      <th>4</th>\n",
              "      <td>3/14/2025 17:12:20</td>\n",
              "      <td>Riya</td>\n",
              "      <td>C005</td>\n",
              "      <td>Very Good</td>\n",
              "      <td>Very Good</td>\n",
              "      <td>Good</td>\n",
              "      <td>Efficient (Fast and on-time)</td>\n",
              "      <td>Normal</td>\n",
              "      <td>Affordable</td>\n",
              "      <td>Yes</td>\n",
              "      <td></td>\n",
              "    </tr>\n",
              "    <tr>\n",
              "      <th>5</th>\n",
              "      <td>3/15/2025 23:37:19</td>\n",
              "      <td>Leah</td>\n",
              "      <td>C006</td>\n",
              "      <td>Good</td>\n",
              "      <td>Good</td>\n",
              "      <td>Very Bad</td>\n",
              "      <td>Confusing (Delayed or unclear delivery process)</td>\n",
              "      <td>Unreliable (Faced issues)</td>\n",
              "      <td>Unfair (Too high for the value)</td>\n",
              "      <td>No</td>\n",
              "      <td>Prices are a bit expensive</td>\n",
              "    </tr>\n",
              "    <tr>\n",
              "      <th>6</th>\n",
              "      <td>3/17/2025 0:03:49</td>\n",
              "      <td>Antony</td>\n",
              "      <td>C007</td>\n",
              "      <td>Good</td>\n",
              "      <td>Good</td>\n",
              "      <td>Bad</td>\n",
              "      <td>Normal (Average delivery time)</td>\n",
              "      <td>Unreliable (Faced issues)</td>\n",
              "      <td>Unfair (Too high for the value)</td>\n",
              "      <td>No</td>\n",
              "      <td></td>\n",
              "    </tr>\n",
              "    <tr>\n",
              "      <th>7</th>\n",
              "      <td>3/17/2025 0:35:04</td>\n",
              "      <td>Jonnie</td>\n",
              "      <td>C008</td>\n",
              "      <td>Bad</td>\n",
              "      <td>Good</td>\n",
              "      <td>Very Good</td>\n",
              "      <td>Normal (Average delivery time)</td>\n",
              "      <td>Reliable (Smooth and trustworthy process)</td>\n",
              "      <td>Very Good</td>\n",
              "      <td>Yes</td>\n",
              "      <td></td>\n",
              "    </tr>\n",
              "    <tr>\n",
              "      <th>8</th>\n",
              "      <td>3/20/2025 12:23:51</td>\n",
              "      <td>Test</td>\n",
              "      <td>C0020</td>\n",
              "      <td>Good</td>\n",
              "      <td>Very Good</td>\n",
              "      <td>Very Good</td>\n",
              "      <td>Normal (Average delivery time)</td>\n",
              "      <td>Reliable (Smooth and trustworthy process)</td>\n",
              "      <td>Very Good</td>\n",
              "      <td>Yes</td>\n",
              "      <td></td>\n",
              "    </tr>\n",
              "    <tr>\n",
              "      <th>9</th>\n",
              "      <td>3/20/2025 12:32:44</td>\n",
              "      <td>TestCustomer</td>\n",
              "      <td>C0021</td>\n",
              "      <td>Good</td>\n",
              "      <td>Very Good</td>\n",
              "      <td>Very Good</td>\n",
              "      <td>Efficient (Fast and on-time)</td>\n",
              "      <td>Reliable (Smooth and trustworthy process)</td>\n",
              "      <td>Affordable</td>\n",
              "      <td>Yes</td>\n",
              "      <td></td>\n",
              "    </tr>\n",
              "  </tbody>\n",
              "</table>\n",
              "</div>"
            ],
            "text/plain": [
              "            Timestamp          Name CustomerID  \\\n",
              "0  3/12/2025 20:11:17       Fathima       C001   \n",
              "1  3/14/2025 17:07:35       Melissa       C002   \n",
              "2  3/14/2025 17:09:14         Shaza       C003   \n",
              "3  3/14/2025 17:11:33         Annie       C004   \n",
              "4  3/14/2025 17:12:20          Riya       C005   \n",
              "5  3/15/2025 23:37:19          Leah       C006   \n",
              "6   3/17/2025 0:03:49        Antony       C007   \n",
              "7   3/17/2025 0:35:04        Jonnie       C008   \n",
              "8  3/20/2025 12:23:51          Test      C0020   \n",
              "9  3/20/2025 12:32:44  TestCustomer      C0021   \n",
              "\n",
              "  How would you rate your overall experience with our website?  \\\n",
              "0                                               Good             \n",
              "1                                                Bad             \n",
              "2                                           Very Bad             \n",
              "3                                                Bad             \n",
              "4                                          Very Good             \n",
              "5                                               Good             \n",
              "6                                               Good             \n",
              "7                                                Bad             \n",
              "8                                               Good             \n",
              "9                                               Good             \n",
              "\n",
              "  How would you rate the security of your payment and personal data on our website?  \\\n",
              "0                                               Good                                  \n",
              "1                                               Good                                  \n",
              "2                                          Very Good                                  \n",
              "3                                               Good                                  \n",
              "4                                          Very Good                                  \n",
              "5                                               Good                                  \n",
              "6                                               Good                                  \n",
              "7                                               Good                                  \n",
              "8                                          Very Good                                  \n",
              "9                                          Very Good                                  \n",
              "\n",
              "  How would you rate your overall experience with our services?  \\\n",
              "0                                               Good              \n",
              "1                                               Good              \n",
              "2                                               Good              \n",
              "3                                                Bad              \n",
              "4                                               Good              \n",
              "5                                           Very Bad              \n",
              "6                                                Bad              \n",
              "7                                          Very Good              \n",
              "8                                          Very Good              \n",
              "9                                          Very Good              \n",
              "\n",
              "  How satisfied are you with our product delivery service?   \\\n",
              "0                     Normal (Average delivery time)          \n",
              "1    Confusing (Delayed or unclear delivery process)          \n",
              "2                     Normal (Average delivery time)          \n",
              "3    Confusing (Delayed or unclear delivery process)          \n",
              "4                       Efficient (Fast and on-time)          \n",
              "5    Confusing (Delayed or unclear delivery process)          \n",
              "6                     Normal (Average delivery time)          \n",
              "7                     Normal (Average delivery time)          \n",
              "8                     Normal (Average delivery time)          \n",
              "9                       Efficient (Fast and on-time)          \n",
              "\n",
              "  How would you describe your shopping and buying experience?  \\\n",
              "0          Reliable (Smooth and trustworthy process)            \n",
              "1                                             Normal            \n",
              "2                                             Normal            \n",
              "3                          Unreliable (Faced issues)            \n",
              "4                                             Normal            \n",
              "5                          Unreliable (Faced issues)            \n",
              "6                          Unreliable (Faced issues)            \n",
              "7          Reliable (Smooth and trustworthy process)            \n",
              "8          Reliable (Smooth and trustworthy process)            \n",
              "9          Reliable (Smooth and trustworthy process)            \n",
              "\n",
              "  How would you rate our product prices compared to value?   \\\n",
              "0                                         Affordable          \n",
              "1                                          Very Good          \n",
              "2                                         Affordable          \n",
              "3                    Unfair (Too high for the value)          \n",
              "4                                         Affordable          \n",
              "5                    Unfair (Too high for the value)          \n",
              "6                    Unfair (Too high for the value)          \n",
              "7                                          Very Good          \n",
              "8                                          Very Good          \n",
              "9                                         Affordable          \n",
              "\n",
              "  How likely are you to shop with us in the future  \\\n",
              "0                                              Yes   \n",
              "1                                               No   \n",
              "2                                            Maybe   \n",
              "3                                               No   \n",
              "4                                              Yes   \n",
              "5                                               No   \n",
              "6                                               No   \n",
              "7                                              Yes   \n",
              "8                                              Yes   \n",
              "9                                              Yes   \n",
              "\n",
              "                                         Feedback  \n",
              "0                                                  \n",
              "1  The prices are good, but the delivery was slow  \n",
              "2                       Overall a good experience  \n",
              "3                                                  \n",
              "4                                                  \n",
              "5                      Prices are a bit expensive  \n",
              "6                                                  \n",
              "7                                                  \n",
              "8                                                  \n",
              "9                                                  "
            ]
          },
          "execution_count": 8,
          "metadata": {},
          "output_type": "execute_result"
        }
      ],
      "source": [
        "# Get the records from the survey\n",
        "google_sheet_data = pd.DataFrame(worksheet.get_all_records())\n",
        "google_sheet_data.head(10)"
      ]
    },
    {
      "cell_type": "code",
      "execution_count": 9,
      "id": "bb2683c4-ab13-48a3-b1dd-e6285ea418b4",
      "metadata": {
        "id": "bb2683c4-ab13-48a3-b1dd-e6285ea418b4"
      },
      "outputs": [],
      "source": [
        "# Map categorical data\n",
        "mapping_dict = {\n",
        "    'Very Bad': 1,\n",
        "    'Bad': 2,\n",
        "    'Good': 3,\n",
        "    'Very Good': 4,\n",
        "    'Confusing (Delayed or unclear delivery process)': 1,\n",
        "    'Normal (Average delivery time)': 2,\n",
        "    'Efficient (Fast and on-time)': 3,\n",
        "    'Unreliable (Faced issues)': 1,\n",
        "    'Normal': 2,\n",
        "    'Reliable (Smooth and trustworthy process)': 3,\n",
        "    'Unfair (Too high for the value)': 1,\n",
        "    'Affordable': 2,\n",
        "    'Very Good': 3,\n",
        "    'No': 0,\n",
        "    'Maybe': 1,\n",
        "    'Yes': 2\n",
        "}\n"
      ]
    },
    {
      "cell_type": "code",
      "execution_count": 10,
      "id": "-IICtqb4tMh0",
      "metadata": {
        "id": "-IICtqb4tMh0"
      },
      "outputs": [],
      "source": [
        "# Clean column names\n",
        "google_sheet_data.columns = google_sheet_data.columns.str.strip()\n",
        "\n",
        "# Extract customer info\n",
        "customer_info = google_sheet_data[['CustomerID', 'Name']].copy()\n",
        "\n",
        "# Create a DataFrame for feedback\n",
        "feedback_data = google_sheet_data[['CustomerID', 'Feedback']].copy()\n",
        "\n",
        "# Drop unnecessary columns\n",
        "google_sheet_data_modified = google_sheet_data.drop(['Timestamp', 'CustomerID', 'Name', 'Feedback'], axis=1)\n",
        "\n",
        "# Rename columns\n",
        "google_sheet_data_modified.rename(columns={\n",
        "    'How satisfied are you with our product delivery service?': 'Delivery',\n",
        "    'How would you rate our product prices compared to value?': 'Price',\n",
        "    'How would you rate your overall experience with our website?': 'Website',\n",
        "    'How would you describe your shopping and buying experience?': 'Shopping',\n",
        "    'How likely are you to shop with us in the future': 'FutureShop',\n",
        "    'How would you rate the security of your payment and personal data on our website?': 'Security',\n",
        "    'How would you rate your overall experience with our services?': 'Services'\n",
        "}, inplace=True)\n",
        "\n",
        "# Map categorical data safely\n",
        "columns_to_map = ['Website', 'Security', 'Services', 'Delivery', 'Shopping', 'Price', 'FutureShop']\n",
        "for col in columns_to_map:\n",
        "    if col in google_sheet_data_modified.columns:\n",
        "        google_sheet_data_modified[col] = google_sheet_data_modified[col].map(mapping_dict).fillna(2)  # Safe mapping + filling\n",
        "    else:\n",
        "        print(f\"Column '{col}' not found!\")\n",
        "\n",
        "# Align indices\n",
        "customer_info.reset_index(drop=True, inplace=True)\n",
        "google_sheet_data_modified.reset_index(drop=True, inplace=True)"
      ]
    },
    {
      "cell_type": "code",
      "execution_count": 17,
      "id": "plvFe55qrkme",
      "metadata": {
        "colab": {
          "base_uri": "https://localhost:8080/"
        },
        "id": "plvFe55qrkme",
        "outputId": "a84a2120-66cc-4384-dc52-bb7169bcf411"
      },
      "outputs": [
        {
          "name": "stdout",
          "output_type": "stream",
          "text": [
            "Customer 'Fathima' (ID: C001) is predicted to NOT CHURN.\n",
            "Customer 'Melissa' (ID: C002) is predicted to CHURN.\n",
            "Customer 'Shaza' (ID: C003) is predicted to NOT CHURN.\n",
            "Customer 'Annie' (ID: C004) is predicted to CHURN.\n",
            "Customer 'Riya' (ID: C005) is predicted to NOT CHURN.\n",
            "Customer 'Leah' (ID: C006) is predicted to CHURN.\n",
            "Customer 'Antony' (ID: C007) is predicted to NOT CHURN.\n",
            "Customer 'Jonnie' (ID: C008) is predicted to NOT CHURN.\n",
            "Customer 'Test' (ID: C0020) is predicted to NOT CHURN.\n",
            "Customer 'TestCustomer' (ID: C0021) is predicted to NOT CHURN.\n"
          ]
        }
      ],
      "source": [
        "# Predict churn\n",
        "churn_predictions = cart_model.predict(google_sheet_data_modified)\n",
        "\n",
        "# Loop and print\n",
        "for idx in range(len(churn_predictions)):\n",
        "    name = customer_info.iloc[idx]['Name']\n",
        "    customer_id = customer_info.iloc[idx]['CustomerID']\n",
        "    status = \"CHURN\" if churn_predictions[idx] == 'Yes' else \"NOT CHURN\"\n",
        "    print(f\"Customer '{name}' (ID: {customer_id}) is predicted to {status}.\")\n"
      ]
    },
    {
      "cell_type": "markdown",
      "id": "0cpjEe5ZWiZK",
      "metadata": {
        "id": "0cpjEe5ZWiZK"
      },
      "source": [
        "Hence, from our CART Model predictions we know that Customer C002, C004 and C006 will churn. <br>\n",
        "Feedback Analysis: Customers like Melissa and Annie expressed dissatisfaction with the delivery service, citing delays and confusion. This is a critical area as it directly impacts customer experience.<br>\n",
        "Action Plan: Implement a more robust delivery tracking system and improve communication channels to keep customers informed about the status of their orders."
      ]
    },
    {
      "cell_type": "code",
      "execution_count": 18,
      "id": "PTa0XSPyBMk8",
      "metadata": {
        "colab": {
          "base_uri": "https://localhost:8080/"
        },
        "id": "PTa0XSPyBMk8",
        "outputId": "106d9d72-a5e1-48df-e917-05e61b6c20f0"
      },
      "outputs": [
        {
          "name": "stdout",
          "output_type": "stream",
          "text": [
            "Top 5 Customer Recommendations:\n",
            "  CustomerID     Name                                     Recommendation\n",
            "0       C001  Fathima                           No urgent action needed.\n",
            "1       C002  Melissa  Improve delivery service with real-time tracking.\n",
            "2       C003    Shaza                   Enhance website user experience.\n",
            "3       C004    Annie  Improve delivery service with real-time tracking.\n",
            "4       C005     Riya                           No urgent action needed.\n"
          ]
        }
      ],
      "source": [
        "# Define retention strategies\n",
        "def recommend_action(customer):\n",
        "    if customer['Delivery'] < 2:\n",
        "        return \"Improve delivery service with real-time tracking.\"\n",
        "    if customer['Price'] < 2:\n",
        "        return \"Offer discounts or loyalty programs.\"\n",
        "    if customer['Website'] < 2:\n",
        "        return \"Enhance website user experience.\"\n",
        "    return \"No urgent action needed.\"\n",
        "\n",
        "# Apply recommendations\n",
        "customer_info['Recommendation'] = google_sheet_data_modified.apply(recommend_action, axis=1)\n",
        "# Display top 5 recommendations\n",
        "print(\"Top 5 Customer Recommendations:\")\n",
        "print(customer_info[['CustomerID', 'Name', 'Recommendation']].head())\n"
      ]
    },
    {
      "cell_type": "markdown",
      "id": "7uHTEgnGcCG9",
      "metadata": {
        "id": "7uHTEgnGcCG9"
      },
      "source": [
        "## Clustering to group customers\n"
      ]
    },
    {
      "cell_type": "code",
      "execution_count": 19,
      "id": "3O_XgrF1YZsQ",
      "metadata": {
        "colab": {
          "base_uri": "https://localhost:8080/",
          "height": 542
        },
        "id": "3O_XgrF1YZsQ",
        "outputId": "d9e8ec2f-40de-4c77-9a40-b2e72636f659"
      },
      "outputs": [
        {
          "name": "stderr",
          "output_type": "stream",
          "text": [
            "c:\\Users\\fathi\\anaconda3\\Lib\\site-packages\\sklearn\\cluster\\_kmeans.py:1446: UserWarning: KMeans is known to have a memory leak on Windows with MKL, when there are less chunks than available threads. You can avoid it by setting the environment variable OMP_NUM_THREADS=1.\n",
            "  warnings.warn(\n"
          ]
        },
        {
          "data": {
            "application/vnd.plotly.v1+json": {
              "config": {
                "plotlyServerURL": "https://plot.ly"
              },
              "data": [
                {
                  "hovertemplate": "FutureShop=2<br>Price=%{x}<br>Delivery=%{y}<br>Cluster=%{marker.color}<extra></extra>",
                  "legendgroup": "2",
                  "marker": {
                    "color": [
                      1,
                      1,
                      1,
                      1,
                      1
                    ],
                    "coloraxis": "coloraxis",
                    "line": {
                      "color": "DarkSlateGrey",
                      "width": 2
                    },
                    "size": 10,
                    "symbol": "circle"
                  },
                  "mode": "markers",
                  "name": "2",
                  "orientation": "v",
                  "showlegend": true,
                  "type": "scatter",
                  "x": [
                    1,
                    1,
                    2,
                    2,
                    1
                  ],
                  "xaxis": "x",
                  "y": [
                    1,
                    2,
                    1,
                    1,
                    2
                  ],
                  "yaxis": "y"
                },
                {
                  "hovertemplate": "FutureShop=0<br>Price=%{x}<br>Delivery=%{y}<br>Cluster=%{marker.color}<extra></extra>",
                  "legendgroup": "0",
                  "marker": {
                    "color": [
                      1,
                      0,
                      0,
                      0
                    ],
                    "coloraxis": "coloraxis",
                    "line": {
                      "color": "DarkSlateGrey",
                      "width": 2
                    },
                    "size": 10,
                    "symbol": "diamond"
                  },
                  "mode": "markers",
                  "name": "0",
                  "orientation": "v",
                  "showlegend": true,
                  "type": "scatter",
                  "x": [
                    2,
                    0,
                    0,
                    0
                  ],
                  "xaxis": "x",
                  "y": [
                    0,
                    0,
                    0,
                    1
                  ],
                  "yaxis": "y"
                },
                {
                  "hovertemplate": "FutureShop=1<br>Price=%{x}<br>Delivery=%{y}<br>Cluster=%{marker.color}<extra></extra>",
                  "legendgroup": "1",
                  "marker": {
                    "color": [
                      1
                    ],
                    "coloraxis": "coloraxis",
                    "line": {
                      "color": "DarkSlateGrey",
                      "width": 2
                    },
                    "size": 10,
                    "symbol": "square"
                  },
                  "mode": "markers",
                  "name": "1",
                  "orientation": "v",
                  "showlegend": true,
                  "type": "scatter",
                  "x": [
                    1
                  ],
                  "xaxis": "x",
                  "y": [
                    1
                  ],
                  "yaxis": "y"
                }
              ],
              "layout": {
                "coloraxis": {
                  "colorbar": {
                    "title": {
                      "text": "Cluster"
                    }
                  },
                  "colorscale": [
                    [
                      0,
                      "#0d0887"
                    ],
                    [
                      0.1111111111111111,
                      "#46039f"
                    ],
                    [
                      0.2222222222222222,
                      "#7201a8"
                    ],
                    [
                      0.3333333333333333,
                      "#9c179e"
                    ],
                    [
                      0.4444444444444444,
                      "#bd3786"
                    ],
                    [
                      0.5555555555555556,
                      "#d8576b"
                    ],
                    [
                      0.6666666666666666,
                      "#ed7953"
                    ],
                    [
                      0.7777777777777778,
                      "#fb9f3a"
                    ],
                    [
                      0.8888888888888888,
                      "#fdca26"
                    ],
                    [
                      1,
                      "#f0f921"
                    ]
                  ]
                },
                "legend": {
                  "title": {
                    "text": "Cluster"
                  },
                  "tracegroupgap": 0
                },
                "template": {
                  "data": {
                    "bar": [
                      {
                        "error_x": {
                          "color": "#2a3f5f"
                        },
                        "error_y": {
                          "color": "#2a3f5f"
                        },
                        "marker": {
                          "line": {
                            "color": "#E5ECF6",
                            "width": 0.5
                          },
                          "pattern": {
                            "fillmode": "overlay",
                            "size": 10,
                            "solidity": 0.2
                          }
                        },
                        "type": "bar"
                      }
                    ],
                    "barpolar": [
                      {
                        "marker": {
                          "line": {
                            "color": "#E5ECF6",
                            "width": 0.5
                          },
                          "pattern": {
                            "fillmode": "overlay",
                            "size": 10,
                            "solidity": 0.2
                          }
                        },
                        "type": "barpolar"
                      }
                    ],
                    "carpet": [
                      {
                        "aaxis": {
                          "endlinecolor": "#2a3f5f",
                          "gridcolor": "white",
                          "linecolor": "white",
                          "minorgridcolor": "white",
                          "startlinecolor": "#2a3f5f"
                        },
                        "baxis": {
                          "endlinecolor": "#2a3f5f",
                          "gridcolor": "white",
                          "linecolor": "white",
                          "minorgridcolor": "white",
                          "startlinecolor": "#2a3f5f"
                        },
                        "type": "carpet"
                      }
                    ],
                    "choropleth": [
                      {
                        "colorbar": {
                          "outlinewidth": 0,
                          "ticks": ""
                        },
                        "type": "choropleth"
                      }
                    ],
                    "contour": [
                      {
                        "colorbar": {
                          "outlinewidth": 0,
                          "ticks": ""
                        },
                        "colorscale": [
                          [
                            0,
                            "#0d0887"
                          ],
                          [
                            0.1111111111111111,
                            "#46039f"
                          ],
                          [
                            0.2222222222222222,
                            "#7201a8"
                          ],
                          [
                            0.3333333333333333,
                            "#9c179e"
                          ],
                          [
                            0.4444444444444444,
                            "#bd3786"
                          ],
                          [
                            0.5555555555555556,
                            "#d8576b"
                          ],
                          [
                            0.6666666666666666,
                            "#ed7953"
                          ],
                          [
                            0.7777777777777778,
                            "#fb9f3a"
                          ],
                          [
                            0.8888888888888888,
                            "#fdca26"
                          ],
                          [
                            1,
                            "#f0f921"
                          ]
                        ],
                        "type": "contour"
                      }
                    ],
                    "contourcarpet": [
                      {
                        "colorbar": {
                          "outlinewidth": 0,
                          "ticks": ""
                        },
                        "type": "contourcarpet"
                      }
                    ],
                    "heatmap": [
                      {
                        "colorbar": {
                          "outlinewidth": 0,
                          "ticks": ""
                        },
                        "colorscale": [
                          [
                            0,
                            "#0d0887"
                          ],
                          [
                            0.1111111111111111,
                            "#46039f"
                          ],
                          [
                            0.2222222222222222,
                            "#7201a8"
                          ],
                          [
                            0.3333333333333333,
                            "#9c179e"
                          ],
                          [
                            0.4444444444444444,
                            "#bd3786"
                          ],
                          [
                            0.5555555555555556,
                            "#d8576b"
                          ],
                          [
                            0.6666666666666666,
                            "#ed7953"
                          ],
                          [
                            0.7777777777777778,
                            "#fb9f3a"
                          ],
                          [
                            0.8888888888888888,
                            "#fdca26"
                          ],
                          [
                            1,
                            "#f0f921"
                          ]
                        ],
                        "type": "heatmap"
                      }
                    ],
                    "heatmapgl": [
                      {
                        "colorbar": {
                          "outlinewidth": 0,
                          "ticks": ""
                        },
                        "colorscale": [
                          [
                            0,
                            "#0d0887"
                          ],
                          [
                            0.1111111111111111,
                            "#46039f"
                          ],
                          [
                            0.2222222222222222,
                            "#7201a8"
                          ],
                          [
                            0.3333333333333333,
                            "#9c179e"
                          ],
                          [
                            0.4444444444444444,
                            "#bd3786"
                          ],
                          [
                            0.5555555555555556,
                            "#d8576b"
                          ],
                          [
                            0.6666666666666666,
                            "#ed7953"
                          ],
                          [
                            0.7777777777777778,
                            "#fb9f3a"
                          ],
                          [
                            0.8888888888888888,
                            "#fdca26"
                          ],
                          [
                            1,
                            "#f0f921"
                          ]
                        ],
                        "type": "heatmapgl"
                      }
                    ],
                    "histogram": [
                      {
                        "marker": {
                          "pattern": {
                            "fillmode": "overlay",
                            "size": 10,
                            "solidity": 0.2
                          }
                        },
                        "type": "histogram"
                      }
                    ],
                    "histogram2d": [
                      {
                        "colorbar": {
                          "outlinewidth": 0,
                          "ticks": ""
                        },
                        "colorscale": [
                          [
                            0,
                            "#0d0887"
                          ],
                          [
                            0.1111111111111111,
                            "#46039f"
                          ],
                          [
                            0.2222222222222222,
                            "#7201a8"
                          ],
                          [
                            0.3333333333333333,
                            "#9c179e"
                          ],
                          [
                            0.4444444444444444,
                            "#bd3786"
                          ],
                          [
                            0.5555555555555556,
                            "#d8576b"
                          ],
                          [
                            0.6666666666666666,
                            "#ed7953"
                          ],
                          [
                            0.7777777777777778,
                            "#fb9f3a"
                          ],
                          [
                            0.8888888888888888,
                            "#fdca26"
                          ],
                          [
                            1,
                            "#f0f921"
                          ]
                        ],
                        "type": "histogram2d"
                      }
                    ],
                    "histogram2dcontour": [
                      {
                        "colorbar": {
                          "outlinewidth": 0,
                          "ticks": ""
                        },
                        "colorscale": [
                          [
                            0,
                            "#0d0887"
                          ],
                          [
                            0.1111111111111111,
                            "#46039f"
                          ],
                          [
                            0.2222222222222222,
                            "#7201a8"
                          ],
                          [
                            0.3333333333333333,
                            "#9c179e"
                          ],
                          [
                            0.4444444444444444,
                            "#bd3786"
                          ],
                          [
                            0.5555555555555556,
                            "#d8576b"
                          ],
                          [
                            0.6666666666666666,
                            "#ed7953"
                          ],
                          [
                            0.7777777777777778,
                            "#fb9f3a"
                          ],
                          [
                            0.8888888888888888,
                            "#fdca26"
                          ],
                          [
                            1,
                            "#f0f921"
                          ]
                        ],
                        "type": "histogram2dcontour"
                      }
                    ],
                    "mesh3d": [
                      {
                        "colorbar": {
                          "outlinewidth": 0,
                          "ticks": ""
                        },
                        "type": "mesh3d"
                      }
                    ],
                    "parcoords": [
                      {
                        "line": {
                          "colorbar": {
                            "outlinewidth": 0,
                            "ticks": ""
                          }
                        },
                        "type": "parcoords"
                      }
                    ],
                    "pie": [
                      {
                        "automargin": true,
                        "type": "pie"
                      }
                    ],
                    "scatter": [
                      {
                        "fillpattern": {
                          "fillmode": "overlay",
                          "size": 10,
                          "solidity": 0.2
                        },
                        "type": "scatter"
                      }
                    ],
                    "scatter3d": [
                      {
                        "line": {
                          "colorbar": {
                            "outlinewidth": 0,
                            "ticks": ""
                          }
                        },
                        "marker": {
                          "colorbar": {
                            "outlinewidth": 0,
                            "ticks": ""
                          }
                        },
                        "type": "scatter3d"
                      }
                    ],
                    "scattercarpet": [
                      {
                        "marker": {
                          "colorbar": {
                            "outlinewidth": 0,
                            "ticks": ""
                          }
                        },
                        "type": "scattercarpet"
                      }
                    ],
                    "scattergeo": [
                      {
                        "marker": {
                          "colorbar": {
                            "outlinewidth": 0,
                            "ticks": ""
                          }
                        },
                        "type": "scattergeo"
                      }
                    ],
                    "scattergl": [
                      {
                        "marker": {
                          "colorbar": {
                            "outlinewidth": 0,
                            "ticks": ""
                          }
                        },
                        "type": "scattergl"
                      }
                    ],
                    "scattermapbox": [
                      {
                        "marker": {
                          "colorbar": {
                            "outlinewidth": 0,
                            "ticks": ""
                          }
                        },
                        "type": "scattermapbox"
                      }
                    ],
                    "scatterpolar": [
                      {
                        "marker": {
                          "colorbar": {
                            "outlinewidth": 0,
                            "ticks": ""
                          }
                        },
                        "type": "scatterpolar"
                      }
                    ],
                    "scatterpolargl": [
                      {
                        "marker": {
                          "colorbar": {
                            "outlinewidth": 0,
                            "ticks": ""
                          }
                        },
                        "type": "scatterpolargl"
                      }
                    ],
                    "scatterternary": [
                      {
                        "marker": {
                          "colorbar": {
                            "outlinewidth": 0,
                            "ticks": ""
                          }
                        },
                        "type": "scatterternary"
                      }
                    ],
                    "surface": [
                      {
                        "colorbar": {
                          "outlinewidth": 0,
                          "ticks": ""
                        },
                        "colorscale": [
                          [
                            0,
                            "#0d0887"
                          ],
                          [
                            0.1111111111111111,
                            "#46039f"
                          ],
                          [
                            0.2222222222222222,
                            "#7201a8"
                          ],
                          [
                            0.3333333333333333,
                            "#9c179e"
                          ],
                          [
                            0.4444444444444444,
                            "#bd3786"
                          ],
                          [
                            0.5555555555555556,
                            "#d8576b"
                          ],
                          [
                            0.6666666666666666,
                            "#ed7953"
                          ],
                          [
                            0.7777777777777778,
                            "#fb9f3a"
                          ],
                          [
                            0.8888888888888888,
                            "#fdca26"
                          ],
                          [
                            1,
                            "#f0f921"
                          ]
                        ],
                        "type": "surface"
                      }
                    ],
                    "table": [
                      {
                        "cells": {
                          "fill": {
                            "color": "#EBF0F8"
                          },
                          "line": {
                            "color": "white"
                          }
                        },
                        "header": {
                          "fill": {
                            "color": "#C8D4E3"
                          },
                          "line": {
                            "color": "white"
                          }
                        },
                        "type": "table"
                      }
                    ]
                  },
                  "layout": {
                    "annotationdefaults": {
                      "arrowcolor": "#2a3f5f",
                      "arrowhead": 0,
                      "arrowwidth": 1
                    },
                    "autotypenumbers": "strict",
                    "coloraxis": {
                      "colorbar": {
                        "outlinewidth": 0,
                        "ticks": ""
                      }
                    },
                    "colorscale": {
                      "diverging": [
                        [
                          0,
                          "#8e0152"
                        ],
                        [
                          0.1,
                          "#c51b7d"
                        ],
                        [
                          0.2,
                          "#de77ae"
                        ],
                        [
                          0.3,
                          "#f1b6da"
                        ],
                        [
                          0.4,
                          "#fde0ef"
                        ],
                        [
                          0.5,
                          "#f7f7f7"
                        ],
                        [
                          0.6,
                          "#e6f5d0"
                        ],
                        [
                          0.7,
                          "#b8e186"
                        ],
                        [
                          0.8,
                          "#7fbc41"
                        ],
                        [
                          0.9,
                          "#4d9221"
                        ],
                        [
                          1,
                          "#276419"
                        ]
                      ],
                      "sequential": [
                        [
                          0,
                          "#0d0887"
                        ],
                        [
                          0.1111111111111111,
                          "#46039f"
                        ],
                        [
                          0.2222222222222222,
                          "#7201a8"
                        ],
                        [
                          0.3333333333333333,
                          "#9c179e"
                        ],
                        [
                          0.4444444444444444,
                          "#bd3786"
                        ],
                        [
                          0.5555555555555556,
                          "#d8576b"
                        ],
                        [
                          0.6666666666666666,
                          "#ed7953"
                        ],
                        [
                          0.7777777777777778,
                          "#fb9f3a"
                        ],
                        [
                          0.8888888888888888,
                          "#fdca26"
                        ],
                        [
                          1,
                          "#f0f921"
                        ]
                      ],
                      "sequentialminus": [
                        [
                          0,
                          "#0d0887"
                        ],
                        [
                          0.1111111111111111,
                          "#46039f"
                        ],
                        [
                          0.2222222222222222,
                          "#7201a8"
                        ],
                        [
                          0.3333333333333333,
                          "#9c179e"
                        ],
                        [
                          0.4444444444444444,
                          "#bd3786"
                        ],
                        [
                          0.5555555555555556,
                          "#d8576b"
                        ],
                        [
                          0.6666666666666666,
                          "#ed7953"
                        ],
                        [
                          0.7777777777777778,
                          "#fb9f3a"
                        ],
                        [
                          0.8888888888888888,
                          "#fdca26"
                        ],
                        [
                          1,
                          "#f0f921"
                        ]
                      ]
                    },
                    "colorway": [
                      "#636efa",
                      "#EF553B",
                      "#00cc96",
                      "#ab63fa",
                      "#FFA15A",
                      "#19d3f3",
                      "#FF6692",
                      "#B6E880",
                      "#FF97FF",
                      "#FECB52"
                    ],
                    "font": {
                      "color": "#2a3f5f"
                    },
                    "geo": {
                      "bgcolor": "white",
                      "lakecolor": "white",
                      "landcolor": "#E5ECF6",
                      "showlakes": true,
                      "showland": true,
                      "subunitcolor": "white"
                    },
                    "hoverlabel": {
                      "align": "left"
                    },
                    "hovermode": "closest",
                    "mapbox": {
                      "style": "light"
                    },
                    "paper_bgcolor": "white",
                    "plot_bgcolor": "#E5ECF6",
                    "polar": {
                      "angularaxis": {
                        "gridcolor": "white",
                        "linecolor": "white",
                        "ticks": ""
                      },
                      "bgcolor": "#E5ECF6",
                      "radialaxis": {
                        "gridcolor": "white",
                        "linecolor": "white",
                        "ticks": ""
                      }
                    },
                    "scene": {
                      "xaxis": {
                        "backgroundcolor": "#E5ECF6",
                        "gridcolor": "white",
                        "gridwidth": 2,
                        "linecolor": "white",
                        "showbackground": true,
                        "ticks": "",
                        "zerolinecolor": "white"
                      },
                      "yaxis": {
                        "backgroundcolor": "#E5ECF6",
                        "gridcolor": "white",
                        "gridwidth": 2,
                        "linecolor": "white",
                        "showbackground": true,
                        "ticks": "",
                        "zerolinecolor": "white"
                      },
                      "zaxis": {
                        "backgroundcolor": "#E5ECF6",
                        "gridcolor": "white",
                        "gridwidth": 2,
                        "linecolor": "white",
                        "showbackground": true,
                        "ticks": "",
                        "zerolinecolor": "white"
                      }
                    },
                    "shapedefaults": {
                      "line": {
                        "color": "#2a3f5f"
                      }
                    },
                    "ternary": {
                      "aaxis": {
                        "gridcolor": "white",
                        "linecolor": "white",
                        "ticks": ""
                      },
                      "baxis": {
                        "gridcolor": "white",
                        "linecolor": "white",
                        "ticks": ""
                      },
                      "bgcolor": "#E5ECF6",
                      "caxis": {
                        "gridcolor": "white",
                        "linecolor": "white",
                        "ticks": ""
                      }
                    },
                    "title": {
                      "x": 0.05
                    },
                    "xaxis": {
                      "automargin": true,
                      "gridcolor": "white",
                      "linecolor": "white",
                      "ticks": "",
                      "title": {
                        "standoff": 15
                      },
                      "zerolinecolor": "white",
                      "zerolinewidth": 2
                    },
                    "yaxis": {
                      "automargin": true,
                      "gridcolor": "white",
                      "linecolor": "white",
                      "ticks": "",
                      "title": {
                        "standoff": 15
                      },
                      "zerolinecolor": "white",
                      "zerolinewidth": 2
                    }
                  }
                },
                "title": {
                  "text": "Customer Feedback Clusters in 2D"
                },
                "xaxis": {
                  "anchor": "y",
                  "domain": [
                    0,
                    1
                  ],
                  "title": {
                    "text": "Price"
                  }
                },
                "yaxis": {
                  "anchor": "x",
                  "domain": [
                    0,
                    1
                  ],
                  "title": {
                    "text": "Delivery"
                  }
                }
              }
            }
          },
          "metadata": {},
          "output_type": "display_data"
        }
      ],
      "source": [
        "df = pd.DataFrame(google_sheet_data_modified)\n",
        "\n",
        "# Encoding categorical data\n",
        "label_encoders = {}\n",
        "for column in ['Website', 'Security', 'Services', 'Delivery', 'Shopping', 'Price', 'FutureShop']:\n",
        "    le = LabelEncoder()\n",
        "    df[column] = le.fit_transform(df[column])\n",
        "    label_encoders[column] = le\n",
        "scaler = StandardScaler()\n",
        "scaled_features = scaler.fit_transform(df[['Website', 'Security', 'Services', 'Delivery', 'Shopping', 'Price', 'FutureShop']])\n",
        "# Apply K-means clustering\n",
        "kmeans = KMeans(n_clusters=2, random_state=42)\n",
        "clusters = kmeans.fit_predict(scaled_features)\n",
        "df['Cluster'] = clusters\n",
        "\n",
        "# Using Plotly for 2D scatter plot\n",
        "fig = px.scatter(df, x='Price', y='Delivery', color='Cluster', symbol='FutureShop', title='Customer Feedback Clusters in 2D')\n",
        "fig.update_traces(marker=dict(size=10, line=dict(width=2, color='DarkSlateGrey')), selector=dict(mode='markers'))\n",
        "fig.update_layout(legend_title_text='Cluster')\n",
        "fig.show()\n",
        "\n"
      ]
    },
    {
      "cell_type": "code",
      "execution_count": null,
      "id": "42ca684d",
      "metadata": {},
      "outputs": [],
      "source": []
    }
  ],
  "metadata": {
    "colab": {
      "provenance": []
    },
    "kernelspec": {
      "display_name": "base",
      "language": "python",
      "name": "python3"
    },
    "language_info": {
      "codemirror_mode": {
        "name": "ipython",
        "version": 3
      },
      "file_extension": ".py",
      "mimetype": "text/x-python",
      "name": "python",
      "nbconvert_exporter": "python",
      "pygments_lexer": "ipython3",
      "version": "3.12.4"
    }
  },
  "nbformat": 4,
  "nbformat_minor": 5
}
